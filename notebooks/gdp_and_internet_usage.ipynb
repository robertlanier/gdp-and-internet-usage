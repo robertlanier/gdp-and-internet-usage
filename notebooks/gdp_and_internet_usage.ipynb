{
 "cells": [
  {
   "cell_type": "markdown",
   "id": "06575c09",
   "metadata": {},
   "source": [
    "# GDP and Internet Usage\n",
    "Import the required packages with their customary aliases"
   ]
  },
  {
   "cell_type": "code",
   "execution_count": 10,
   "id": "94fb6769",
   "metadata": {},
   "outputs": [],
   "source": [
    "import pandas as pd\n",
    "import numpy as np\n",
    "import matplotlib.pyplot as plt\n",
    "import seaborn as sns\n",
    "%matplotlib inline"
   ]
  },
  {
   "cell_type": "markdown",
   "id": "8d5b36df",
   "metadata": {},
   "source": [
    "Using the pandas method, read the GDP dataset as a DataFrame called `gdp_df` and take a look at the first 6 rows."
   ]
  },
  {
   "cell_type": "code",
   "execution_count": 11,
   "id": "51ea81a2",
   "metadata": {},
   "outputs": [
    {
     "name": "stdout",
     "output_type": "stream",
     "text": [
      "  Country or Area  Year        Value  Value Footnotes\n",
      "0     Afghanistan  2019  2065.036398              NaN\n",
      "1     Afghanistan  2018  2033.779002              NaN\n",
      "2     Afghanistan  2017  2058.383832              NaN\n",
      "3     Afghanistan  2016  2057.062164              NaN\n",
      "4     Afghanistan  2015  2068.265904              NaN\n",
      "5     Afghanistan  2014  2102.385234              NaN\n"
     ]
    }
   ],
   "source": [
    "gdp_df = pd.read_csv(\"../data/gdp_percapita.csv\")\n",
    "print(gdp_df.head(6))"
   ]
  },
  {
   "cell_type": "markdown",
   "id": "2cb3d43f",
   "metadata": {},
   "source": [
    "Using the pandas method, read the internet usage dataset as a DataFrame called `internet_df` and take a look at the first 6 rows.\n",
    "&nbsp;\n",
    "\n",
    "- *Added double quotes around \"Internet, Broadband and cell phone statistics,\" on line 4684 to resolve tokenizing error.*"
   ]
  },
  {
   "cell_type": "code",
   "execution_count": 17,
   "id": "e55f56a1",
   "metadata": {},
   "outputs": [
    {
     "name": "stdout",
     "output_type": "stream",
     "text": [
      "  Country or Area  Year     Value  Value Footnotes\n",
      "0     Afghanistan  2014  6.390000              NaN\n",
      "1     Afghanistan  2013  5.900000              NaN\n",
      "2     Afghanistan  2012  5.454545              NaN\n",
      "3     Afghanistan  2011  5.000000              NaN\n",
      "4     Afghanistan  2010  4.000000              NaN\n",
      "5     Afghanistan  2009  3.550000              NaN\n"
     ]
    }
   ],
   "source": [
    "internet_df = pd.read_csv(\"../data/internet_use.csv\", nrows=4497)\n",
    "print(internet_df.head(6))"
   ]
  },
  {
   "cell_type": "markdown",
   "id": "345640f7",
   "metadata": {},
   "source": [
    "How many rows and columns are in each DataFrame?\n",
    "- *gdp_df - 6870 rows and 4 columns*\n",
    "- *internet_df - 4676 rows and 4 columns*\n",
    "&nbsp;\n",
    "\n",
    "What are the datatypes for the columns in each DataFrame?\n",
    "- *gdp_df - Country or Area - object, Year - object, Value - float64, Value Footnotes - float64*\n",
    "- *internet_df - Country or Area - object, Year - object, Value - float64, Value Footnotes - object*"
   ]
  },
  {
   "cell_type": "code",
   "execution_count": 14,
   "id": "3788b32f",
   "metadata": {},
   "outputs": [
    {
     "name": "stdout",
     "output_type": "stream",
     "text": [
      "<class 'pandas.core.frame.DataFrame'>\n",
      "RangeIndex: 6870 entries, 0 to 6869\n",
      "Data columns (total 4 columns):\n",
      " #   Column           Non-Null Count  Dtype  \n",
      "---  ------           --------------  -----  \n",
      " 0   Country or Area  6870 non-null   object \n",
      " 1   Year             6870 non-null   object \n",
      " 2   Value            6868 non-null   float64\n",
      " 3   Value Footnotes  1 non-null      float64\n",
      "dtypes: float64(2), object(2)\n",
      "memory usage: 214.8+ KB\n",
      "None\n",
      "<class 'pandas.core.frame.DataFrame'>\n",
      "RangeIndex: 4676 entries, 0 to 4675\n",
      "Data columns (total 4 columns):\n",
      " #   Column           Non-Null Count  Dtype  \n",
      "---  ------           --------------  -----  \n",
      " 0   Country or Area  4676 non-null   object \n",
      " 1   Year             4676 non-null   object \n",
      " 2   Value            4496 non-null   float64\n",
      " 3   Value Footnotes  949 non-null    object \n",
      "dtypes: float64(1), object(3)\n",
      "memory usage: 146.2+ KB\n",
      "None\n"
     ]
    }
   ],
   "source": [
    "print(gdp_df.info())\n",
    "print(internet_df.info())"
   ]
  }
 ],
 "metadata": {
  "kernelspec": {
   "display_name": "Python 3",
   "language": "python",
   "name": "python3"
  },
  "language_info": {
   "codemirror_mode": {
    "name": "ipython",
    "version": 3
   },
   "file_extension": ".py",
   "mimetype": "text/x-python",
   "name": "python",
   "nbconvert_exporter": "python",
   "pygments_lexer": "ipython3",
   "version": "3.8.8"
  }
 },
 "nbformat": 4,
 "nbformat_minor": 5
}
