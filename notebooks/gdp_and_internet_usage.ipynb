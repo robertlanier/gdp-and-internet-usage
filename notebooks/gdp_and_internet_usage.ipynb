{
 "cells": [
  {
   "cell_type": "markdown",
   "id": "06575c09",
   "metadata": {},
   "source": [
    "# GDP and Internet Usage\n",
    "3. & 4. Import the required packages with their customary aliases"
   ]
  },
  {
   "cell_type": "code",
   "execution_count": 232,
   "id": "94fb6769",
   "metadata": {},
   "outputs": [],
   "source": [
    "import pandas as pd\n",
    "import numpy as np\n",
    "import matplotlib.pyplot as plt\n",
    "import seaborn as sns\n",
    "%matplotlib inline"
   ]
  },
  {
   "cell_type": "markdown",
   "id": "8d5b36df",
   "metadata": {},
   "source": [
    "5. Using the pandas method, read the GDP dataset as a DataFrame called `gdp_df` and take a look at the first 6 rows."
   ]
  },
  {
   "cell_type": "code",
   "execution_count": 233,
   "id": "51ea81a2",
   "metadata": {
    "scrolled": true
   },
   "outputs": [
    {
     "name": "stdout",
     "output_type": "stream",
     "text": [
      "  Country or Area  Year        Value  Value Footnotes\n",
      "0     Afghanistan  2019  2065.036398              NaN\n",
      "1     Afghanistan  2018  2033.779002              NaN\n",
      "2     Afghanistan  2017  2058.383832              NaN\n",
      "3     Afghanistan  2016  2057.062164              NaN\n",
      "4     Afghanistan  2015  2068.265904              NaN\n",
      "5     Afghanistan  2014  2102.385234              NaN\n"
     ]
    }
   ],
   "source": [
    "gdp_df = pd.read_csv(\"../data/gdp_percapita.csv\", nrows= 6868)\n",
    "print(gdp_df.head(6))"
   ]
  },
  {
   "cell_type": "markdown",
   "id": "2cb3d43f",
   "metadata": {},
   "source": [
    " 6. Using the pandas method, read the internet usage dataset as a DataFrame called `internet_df` and take a look at the first 6 rows.\n",
    "\n",
    "\n",
    "    - *Added double quotes around \"Internet, Broadband and cell phone statistics,\" on line 4684 to resolve tokenizing error.*"
   ]
  },
  {
   "cell_type": "code",
   "execution_count": 234,
   "id": "e55f56a1",
   "metadata": {},
   "outputs": [
    {
     "name": "stdout",
     "output_type": "stream",
     "text": [
      "  Country or Area  Year     Value  Value Footnotes\n",
      "0     Afghanistan  2014  6.390000              NaN\n",
      "1     Afghanistan  2013  5.900000              NaN\n",
      "2     Afghanistan  2012  5.454545              NaN\n",
      "3     Afghanistan  2011  5.000000              NaN\n",
      "4     Afghanistan  2010  4.000000              NaN\n",
      "5     Afghanistan  2009  3.550000              NaN\n"
     ]
    }
   ],
   "source": [
    "internet_df = pd.read_csv(\"../data/internet_use.csv\", nrows=4495)\n",
    "print(internet_df.head(6))"
   ]
  },
  {
   "cell_type": "markdown",
   "id": "345640f7",
   "metadata": {},
   "source": [
    "7. How many rows and columns are in each DataFrame?\n",
    "    - *gdp_df - 6870 rows and 4 columns*\n",
    "    - *internet_df - 4676 rows and 4 columns*\n",
    "\n",
    "\n",
    "8. What are the datatypes for the columns in each DataFrame?\n",
    "    - *gdp_df - Country or Area - object, Year - object, Value - float64, Value Footnotes - float64*\n",
    "    - *internet_df - Country or Area - object, Year - object, Value - float64, Value Footnotes - object*"
   ]
  },
  {
   "cell_type": "code",
   "execution_count": 235,
   "id": "3788b32f",
   "metadata": {},
   "outputs": [
    {
     "name": "stdout",
     "output_type": "stream",
     "text": [
      "<class 'pandas.core.frame.DataFrame'>\n",
      "RangeIndex: 6868 entries, 0 to 6867\n",
      "Data columns (total 4 columns):\n",
      " #   Column           Non-Null Count  Dtype  \n",
      "---  ------           --------------  -----  \n",
      " 0   Country or Area  6868 non-null   object \n",
      " 1   Year             6868 non-null   int64  \n",
      " 2   Value            6868 non-null   float64\n",
      " 3   Value Footnotes  1 non-null      float64\n",
      "dtypes: float64(2), int64(1), object(1)\n",
      "memory usage: 214.8+ KB\n",
      "None\n",
      "\n",
      "<class 'pandas.core.frame.DataFrame'>\n",
      "RangeIndex: 4495 entries, 0 to 4494\n",
      "Data columns (total 4 columns):\n",
      " #   Column           Non-Null Count  Dtype  \n",
      "---  ------           --------------  -----  \n",
      " 0   Country or Area  4495 non-null   object \n",
      " 1   Year             4495 non-null   int64  \n",
      " 2   Value            4495 non-null   float64\n",
      " 3   Value Footnotes  948 non-null    float64\n",
      "dtypes: float64(2), int64(1), object(1)\n",
      "memory usage: 140.6+ KB\n",
      "None\n"
     ]
    }
   ],
   "source": [
    "print(gdp_df.info())\n",
    "print()\n",
    "print(internet_df.info())"
   ]
  },
  {
   "cell_type": "markdown",
   "id": "bd9ae902",
   "metadata": {},
   "source": [
    "9. Take a look at the last 10 rows of each DataFrame in turn."
   ]
  },
  {
   "cell_type": "code",
   "execution_count": 236,
   "id": "eec98513",
   "metadata": {},
   "outputs": [
    {
     "name": "stdout",
     "output_type": "stream",
     "text": [
      "  Country or Area  Year        Value  Value Footnotes\n",
      "0     Afghanistan  2019  2065.036398              NaN\n",
      "1     Afghanistan  2018  2033.779002              NaN\n",
      "2     Afghanistan  2017  2058.383832              NaN\n",
      "3     Afghanistan  2016  2057.062164              NaN\n",
      "4     Afghanistan  2015  2068.265904              NaN\n",
      "5     Afghanistan  2014  2102.385234              NaN\n",
      "6     Afghanistan  2013  2116.465454              NaN\n",
      "7     Afghanistan  2012  2075.491747              NaN\n",
      "8     Afghanistan  2011  1904.559799              NaN\n",
      "9     Afghanistan  2010  1957.029338              NaN\n",
      "\n",
      "  Country or Area  Year     Value  Value Footnotes\n",
      "0     Afghanistan  2014  6.390000              NaN\n",
      "1     Afghanistan  2013  5.900000              NaN\n",
      "2     Afghanistan  2012  5.454545              NaN\n",
      "3     Afghanistan  2011  5.000000              NaN\n",
      "4     Afghanistan  2010  4.000000              NaN\n",
      "5     Afghanistan  2009  3.550000              NaN\n",
      "6     Afghanistan  2008  1.840000              NaN\n",
      "7     Afghanistan  2007  1.900000              NaN\n",
      "8     Afghanistan  2006  2.107124              NaN\n",
      "9     Afghanistan  2005  1.224148              NaN\n"
     ]
    }
   ],
   "source": [
    "print(gdp_df.head(10))\n",
    "print()\n",
    "print(internet_df.head(10))"
   ]
  },
  {
   "cell_type": "markdown",
   "id": "a42a818b",
   "metadata": {},
   "source": [
    "10. Drop the `value footnotes` column from both DataFrames. Check that this worked as expected."
   ]
  },
  {
   "cell_type": "code",
   "execution_count": 237,
   "id": "223960c2",
   "metadata": {},
   "outputs": [
    {
     "name": "stdout",
     "output_type": "stream",
     "text": [
      "     Country or Area  Year        Value\n",
      "0        Afghanistan  2019  2065.036398\n",
      "1        Afghanistan  2018  2033.779002\n",
      "2        Afghanistan  2017  2058.383832\n",
      "3        Afghanistan  2016  2057.062164\n",
      "4        Afghanistan  2015  2068.265904\n",
      "...              ...   ...          ...\n",
      "6863        Zimbabwe  1994  3263.934978\n",
      "6864        Zimbabwe  1993  3033.504852\n",
      "6865        Zimbabwe  1992  3054.889178\n",
      "6866        Zimbabwe  1991  3426.598094\n",
      "6867        Zimbabwe  1990  3324.348171\n",
      "\n",
      "[6868 rows x 3 columns]\n",
      "\n",
      "     Country or Area  Year     Value\n",
      "0        Afghanistan  2014  6.390000\n",
      "1        Afghanistan  2013  5.900000\n",
      "2        Afghanistan  2012  5.454545\n",
      "3        Afghanistan  2011  5.000000\n",
      "4        Afghanistan  2010  4.000000\n",
      "...              ...   ...       ...\n",
      "4490        Zimbabwe  1997  0.033080\n",
      "4491        Zimbabwe  1996  0.016790\n",
      "4492        Zimbabwe  1995  0.007684\n",
      "4493        Zimbabwe  1994  0.001739\n",
      "4494        Zimbabwe  1990  0.000000\n",
      "\n",
      "[4495 rows x 3 columns]\n"
     ]
    }
   ],
   "source": [
    "gdp_df = gdp_df.drop(columns = 'Value Footnotes')\n",
    "internet_df = internet_df.drop(columns = 'Value Footnotes')\n",
    "print(gdp_df)\n",
    "print()\n",
    "print(internet_df)"
   ]
  },
  {
   "cell_type": "markdown",
   "id": "4cb79cfa",
   "metadata": {},
   "source": [
    "11. Change the columns for the GDP Per Capita DataFrame to ‘Country’, ‘Year’, and ‘GDP_Per_Capita’."
   ]
  },
  {
   "cell_type": "code",
   "execution_count": 238,
   "id": "d65e6571",
   "metadata": {},
   "outputs": [
    {
     "name": "stdout",
     "output_type": "stream",
     "text": [
      "          Country  Year  GDP_Per_Capita\n",
      "0     Afghanistan  2019     2065.036398\n",
      "1     Afghanistan  2018     2033.779002\n",
      "2     Afghanistan  2017     2058.383832\n",
      "3     Afghanistan  2016     2057.062164\n",
      "4     Afghanistan  2015     2068.265904\n",
      "...           ...   ...             ...\n",
      "6863     Zimbabwe  1994     3263.934978\n",
      "6864     Zimbabwe  1993     3033.504852\n",
      "6865     Zimbabwe  1992     3054.889178\n",
      "6866     Zimbabwe  1991     3426.598094\n",
      "6867     Zimbabwe  1990     3324.348171\n",
      "\n",
      "[6868 rows x 3 columns]\n"
     ]
    }
   ],
   "source": [
    "gdp_df = gdp_df.rename(columns = {'Country or Area':'Country', 'Value':'GDP_Per_Capita'})\n",
    "print(gdp_df)"
   ]
  },
  {
   "cell_type": "markdown",
   "id": "fa0b9647",
   "metadata": {},
   "source": [
    "12. Change the columns for the Internet Users DataFrame to ‘Country’, ‘Year’, and ‘Internet_Users_Pct’."
   ]
  },
  {
   "cell_type": "code",
   "execution_count": 239,
   "id": "649b26c5",
   "metadata": {},
   "outputs": [
    {
     "name": "stdout",
     "output_type": "stream",
     "text": [
      "          Country  Year  Internet_Users_Pct\n",
      "0     Afghanistan  2014            6.390000\n",
      "1     Afghanistan  2013            5.900000\n",
      "2     Afghanistan  2012            5.454545\n",
      "3     Afghanistan  2011            5.000000\n",
      "4     Afghanistan  2010            4.000000\n",
      "...           ...   ...                 ...\n",
      "4490     Zimbabwe  1997            0.033080\n",
      "4491     Zimbabwe  1996            0.016790\n",
      "4492     Zimbabwe  1995            0.007684\n",
      "4493     Zimbabwe  1994            0.001739\n",
      "4494     Zimbabwe  1990            0.000000\n",
      "\n",
      "[4495 rows x 3 columns]\n"
     ]
    }
   ],
   "source": [
    "internet_df = internet_df.rename(columns = {'Country or Area':'Country', 'Value':'Internet_Users_Pct'})\n",
    "print(internet_df)"
   ]
  },
  {
   "cell_type": "markdown",
   "id": "467fbc63",
   "metadata": {},
   "source": [
    "13. Merge the two DataFrames to one. Merge all rows from each of the two DataFrames. Call the new DataFrame `gdp_and_internet_use`."
   ]
  },
  {
   "cell_type": "code",
   "execution_count": 240,
   "id": "71fd6dcf",
   "metadata": {},
   "outputs": [],
   "source": [
    "gdp_and_internet_use = pd.merge(gdp_df, internet_df, how = 'outer', on = ['Country', 'Year'])"
   ]
  },
  {
   "cell_type": "markdown",
   "id": "72503968",
   "metadata": {},
   "source": [
    "14. Look at the first five rows of your new DataFrame to confirm it merged correctly."
   ]
  },
  {
   "cell_type": "code",
   "execution_count": 241,
   "id": "9aaa6677",
   "metadata": {},
   "outputs": [
    {
     "name": "stdout",
     "output_type": "stream",
     "text": [
      "       Country  Year  GDP_Per_Capita  Internet_Users_Pct\n",
      "0  Afghanistan  2019     2065.036398                 NaN\n",
      "1  Afghanistan  2018     2033.779002                 NaN\n",
      "2  Afghanistan  2017     2058.383832                 NaN\n",
      "3  Afghanistan  2016     2057.062164                 NaN\n",
      "4  Afghanistan  2015     2068.265904                 NaN\n"
     ]
    }
   ],
   "source": [
    "print(gdp_and_internet_use.iloc[0:5])"
   ]
  },
  {
   "cell_type": "markdown",
   "id": "10ae5b2a",
   "metadata": {},
   "source": [
    "15. Look at the last five rows to make sure the data is clean and as expected."
   ]
  },
  {
   "cell_type": "code",
   "execution_count": 242,
   "id": "1b0c633f",
   "metadata": {},
   "outputs": [
    {
     "name": "stdout",
     "output_type": "stream",
     "text": [
      "     Country  Year  GDP_Per_Capita  Internet_Users_Pct\n",
      "7900   Yemen  1999             NaN            0.056629\n",
      "7901   Yemen  1998             NaN            0.023323\n",
      "7902   Yemen  1997             NaN            0.015025\n",
      "7903   Yemen  1996             NaN            0.000621\n",
      "7904   Yemen  1990             NaN            0.000000\n"
     ]
    }
   ],
   "source": [
    "print(gdp_and_internet_use.iloc[-5:])"
   ]
  },
  {
   "cell_type": "markdown",
   "id": "9d256589",
   "metadata": {},
   "source": [
    "16. Subset the combined DataFrame to keep only the data for 2004, 2009, and 2014. Check that this happened correctly."
   ]
  },
  {
   "cell_type": "code",
   "execution_count": 243,
   "id": "392763d0",
   "metadata": {},
   "outputs": [],
   "source": [
    "year_filter = gdp_and_internet_use['Year'].isin([2004, 2009, 2014])\n",
    "#print(gdp_and_internet_use[year_filter])\n",
    "gdp_and_internet_use = gdp_and_internet_use[year_filter]"
   ]
  },
  {
   "cell_type": "markdown",
   "id": "0eecdd2f",
   "metadata": {},
   "source": [
    "17. Create three new DataFrames, one for 2004, one for 2009, and one for 2014. Give them meaningful names that aren't too long."
   ]
  },
  {
   "cell_type": "code",
   "execution_count": 244,
   "id": "78922c4a",
   "metadata": {},
   "outputs": [],
   "source": [
    "gdp_and_internet_use_2004 = gdp_and_internet_use[gdp_and_internet_use['Year'].isin([2004])]\n",
    "gdp_and_internet_use_2009 = gdp_and_internet_use[gdp_and_internet_use['Year'].isin([2009])]\n",
    "gdp_and_internet_use_2014 = gdp_and_internet_use[gdp_and_internet_use['Year'].isin([2014])]"
   ]
  },
  {
   "cell_type": "markdown",
   "id": "f0b9eb1a",
   "metadata": {},
   "source": [
    "18. Which country had the highest percentage of internet users in 2014? What was the percentage?\n",
    "    - Country - *Iceland*\n",
    "    - Percentage - *98.16*"
   ]
  },
  {
   "cell_type": "code",
   "execution_count": 245,
   "id": "ad2c6a91",
   "metadata": {
    "scrolled": true
   },
   "outputs": [
    {
     "name": "stdout",
     "output_type": "stream",
     "text": [
      "      Country  Internet_Users_Pct\n",
      "2625  Iceland               98.16\n"
     ]
    }
   ],
   "source": [
    "print(gdp_and_internet_use_2014[['Country', 'Internet_Users_Pct']].loc[gdp_and_internet_use_2014['Internet_Users_Pct'] == gdp_and_internet_use_2014['Internet_Users_Pct'].max(),])"
   ]
  },
  {
   "cell_type": "markdown",
   "id": "fa594dab",
   "metadata": {},
   "source": [
    "19. Which country had the lowest percentage of internet users in 2014? What was the percentage?\n",
    "    - Country - *Dem. People's Rep. of Korea*\n",
    "    - Percentage - *0.0*"
   ]
  },
  {
   "cell_type": "code",
   "execution_count": 246,
   "id": "33c9ff3b",
   "metadata": {},
   "outputs": [
    {
     "name": "stdout",
     "output_type": "stream",
     "text": [
      "                          Country  Internet_Users_Pct\n",
      "7079  Dem. People's Rep. of Korea                 0.0\n"
     ]
    }
   ],
   "source": [
    "print(gdp_and_internet_use_2014[['Country', 'Internet_Users_Pct']].loc[gdp_and_internet_use_2014['Internet_Users_Pct'] == gdp_and_internet_use_2014['Internet_Users_Pct'].min(),])"
   ]
  },
  {
   "cell_type": "markdown",
   "id": "37a94f92",
   "metadata": {},
   "source": [
    "20. Repeat for 2004 and 2009.\n",
    "    - 2004 Highest Perc - *83.89* - Country - *Sweden*\n",
    "    - 2004 Lowest Perc - *0.0* - Country - *Dem. People's Rep. of Korea*    \n",
    "    - 2009 Highest Perc - *93.0* - Country - *Iceland*\n",
    "    - 2009 Lowest Perc - *0.0* - Country - *Dem. People's Rep. of Korea*"
   ]
  },
  {
   "cell_type": "code",
   "execution_count": 247,
   "id": "532af9b8",
   "metadata": {},
   "outputs": [
    {
     "name": "stdout",
     "output_type": "stream",
     "text": [
      "     Country  Internet_Users_Pct\n",
      "6019  Sweden               83.89\n",
      "\n",
      "                          Country  Internet_Users_Pct\n",
      "7088  Dem. People's Rep. of Korea                 0.0\n",
      "\n",
      "      Country  Internet_Users_Pct\n",
      "2630  Iceland                93.0\n",
      "\n",
      "                          Country  Internet_Users_Pct\n",
      "7083  Dem. People's Rep. of Korea                 0.0\n"
     ]
    }
   ],
   "source": [
    "print(gdp_and_internet_use_2004[['Country', 'Internet_Users_Pct']].loc[gdp_and_internet_use_2004['Internet_Users_Pct'] == gdp_and_internet_use_2004['Internet_Users_Pct'].max(),])\n",
    "print()\n",
    "print(gdp_and_internet_use_2004[['Country', 'Internet_Users_Pct']].loc[gdp_and_internet_use_2004['Internet_Users_Pct'] == gdp_and_internet_use_2004['Internet_Users_Pct'].min(),])\n",
    "print()\n",
    "print(gdp_and_internet_use_2009[['Country', 'Internet_Users_Pct']].loc[gdp_and_internet_use_2009['Internet_Users_Pct'] == gdp_and_internet_use_2009['Internet_Users_Pct'].max(),])\n",
    "print()\n",
    "print(gdp_and_internet_use_2009[['Country', 'Internet_Users_Pct']].loc[gdp_and_internet_use_2009['Internet_Users_Pct'] == gdp_and_internet_use_2009['Internet_Users_Pct'].min(),])"
   ]
  },
  {
   "cell_type": "markdown",
   "id": "a7e552a8",
   "metadata": {},
   "source": [
    "21. & 22. Which country had the highest & lowest gdp per capita in 2014? What was the gdp per capita?\n",
    "    - 2014 Highest GDP per Capita - *156514.13385* - Country - *Macao SAR, China*\n",
    "    - 2014 Lowest GDP per Capita - *822.610458* - Country - *Central African Republic*"
   ]
  },
  {
   "cell_type": "code",
   "execution_count": 248,
   "id": "1f801a01",
   "metadata": {
    "scrolled": true
   },
   "outputs": [
    {
     "name": "stdout",
     "output_type": "stream",
     "text": [
      "               Country  GDP_Per_Capita\n",
      "3721  Macao SAR, China    156514.13385\n",
      "\n",
      "                       Country  GDP_Per_Capita\n",
      "1047  Central African Republic      822.610458\n"
     ]
    }
   ],
   "source": [
    "print(gdp_and_internet_use_2014[['Country', 'GDP_Per_Capita']].loc[gdp_and_internet_use_2014['GDP_Per_Capita'] == gdp_and_internet_use_2014['GDP_Per_Capita'].max(),])\n",
    "print()\n",
    "print(gdp_and_internet_use_2014[['Country', 'GDP_Per_Capita']].loc[gdp_and_internet_use_2014['GDP_Per_Capita'] == gdp_and_internet_use_2014['GDP_Per_Capita'].min(),])"
   ]
  },
  {
   "cell_type": "markdown",
   "id": "2fcb5200",
   "metadata": {},
   "source": [
    "23a. Create scatterplot of 2004 Percent Using the Internet vs GDP Per Capita"
   ]
  },
  {
   "cell_type": "code",
   "execution_count": 249,
   "id": "416ae793",
   "metadata": {},
   "outputs": [
    {
     "data": {
      "text/plain": [
       "Text(0.5, 1.0, '2004 Internet Usage Prec vs GDP Per Capita')"
      ]
     },
     "execution_count": 249,
     "metadata": {},
     "output_type": "execute_result"
    },
    {
     "data": {
      "image/png": "[encoded data removed]",
      "text/plain": [
       "<Figure size 432x288 with 1 Axes>"
      ]
     },
     "metadata": {
      "needs_background": "light"
     },
     "output_type": "display_data"
    }
   ],
   "source": [
    "plt.scatter(gdp_and_internet_use_2004['GDP_Per_Capita'], gdp_and_internet_use_2004['Internet_Users_Pct'], alpha = 0.3)\n",
    "plt.xlabel(\"GDP_Per_Capita\")\n",
    "plt.ylabel(\"Internet_Users_Pct\")\n",
    "plt.title(\"2004 Internet Usage Prec vs GDP Per Capita\")"
   ]
  },
  {
   "cell_type": "markdown",
   "id": "4e845687",
   "metadata": {},
   "source": [
    "23b. Create scatterplot of 2009 Percent Using the Internet vs GDP Per Capita"
   ]
  },
  {
   "cell_type": "code",
   "execution_count": 250,
   "id": "0998118a",
   "metadata": {},
   "outputs": [
    {
     "data": {
      "text/plain": [
       "Text(0.5, 1.0, '2009 Internet Usage Prec vs GDP Per Capita')"
      ]
     },
     "execution_count": 250,
     "metadata": {},
     "output_type": "execute_result"
    },
    {
     "data": {
      "image/png": "[encoded data removed]",
      "text/plain": [
       "<Figure size 432x288 with 1 Axes>"
      ]
     },
     "metadata": {
      "needs_background": "light"
     },
     "output_type": "display_data"
    }
   ],
   "source": [
    "plt.scatter(gdp_and_internet_use_2009['GDP_Per_Capita'], gdp_and_internet_use_2009['Internet_Users_Pct'], alpha = 0.3)\n",
    "plt.xlabel(\"GDP_Per_Capita\")\n",
    "plt.ylabel(\"Internet_Users_Pct\")\n",
    "plt.title(\"2009 Internet Usage Prec vs GDP Per Capita\")"
   ]
  },
  {
   "cell_type": "markdown",
   "id": "37b55507",
   "metadata": {},
   "source": [
    "23c. Create scatterplot of 2014 Percent Using the Internet vs GDP Capita"
   ]
  },
  {
   "cell_type": "code",
   "execution_count": 251,
   "id": "a8734c61",
   "metadata": {},
   "outputs": [
    {
     "data": {
      "text/plain": [
       "Text(0.5, 1.0, '2014 Internet Usage Prec vs GDP Per Capita')"
      ]
     },
     "execution_count": 251,
     "metadata": {},
     "output_type": "execute_result"
    },
    {
     "data": {
      "image/png": "[encoded data removed]",
      "text/plain": [
       "<Figure size 432x288 with 1 Axes>"
      ]
     },
     "metadata": {
      "needs_background": "light"
     },
     "output_type": "display_data"
    }
   ],
   "source": [
    "plt.scatter(gdp_and_internet_use_2014['GDP_Per_Capita'], gdp_and_internet_use_2014['Internet_Users_Pct'], alpha = 0.3)\n",
    "plt.xlabel(\"GDP_Per_Capita\")\n",
    "plt.ylabel(\"Internet_Users_Pct\")\n",
    "plt.title(\"2014 Internet Usage Prec vs GDP Per Capita\")"
   ]
  },
  {
   "cell_type": "markdown",
   "id": "de8ecee3",
   "metadata": {},
   "source": [
    "24. Are there differences across years? What do the plots tell you about any relationship between these two variables?\n",
    "- *There does look to be a difference across years*\n",
    "    - *Every year more people are using the internet*\n",
    "    - *Countries with higher GDP per Capita have higher internet usage*"
   ]
  },
  {
   "cell_type": "markdown",
   "id": "56b23870",
   "metadata": {},
   "source": [
    "25. Look at the distribution of gdp per capita values for 2014. Is it unimodal?\n",
    "- *It is unimodal, because it has one clear peak. It is a right skewed distribution.*"
   ]
  },
  {
   "cell_type": "code",
   "execution_count": 252,
   "id": "67cd1b37",
   "metadata": {},
   "outputs": [
    {
     "data": {
      "text/plain": [
       "Text(0.5, 1.0, '2014 GDP per Capita Distribution')"
      ]
     },
     "execution_count": 252,
     "metadata": {},
     "output_type": "execute_result"
    },
    {
     "data": {
      "image/png": "[encoded data removed]",
      "text/plain": [
       "<Figure size 432x288 with 1 Axes>"
      ]
     },
     "metadata": {
      "needs_background": "light"
     },
     "output_type": "display_data"
    }
   ],
   "source": [
    "plt.hist(gdp_and_internet_use_2014['GDP_Per_Capita'], bins=10)\n",
    "plt.title(\"2014 GDP per Capita Distribution\")"
   ]
  },
  {
   "cell_type": "markdown",
   "id": "bdae5b4e",
   "metadata": {},
   "source": [
    "26. Look at the distribution of Internet Use for 2014. Is it unimodal?\n",
    "    - *It is unimodal, because it has one clear peak. It is a multimmodal distribution.* "
   ]
  },
  {
   "cell_type": "code",
   "execution_count": 253,
   "id": "9d1c5137",
   "metadata": {},
   "outputs": [
    {
     "data": {
      "text/plain": [
       "Text(0.5, 1.0, '2014 Internet Usage Perc Distribution')"
      ]
     },
     "execution_count": 253,
     "metadata": {},
     "output_type": "execute_result"
    },
    {
     "data": {
      "image/png": "[encoded data removed]",
      "text/plain": [
       "<Figure size 432x288 with 1 Axes>"
      ]
     },
     "metadata": {
      "needs_background": "light"
     },
     "output_type": "display_data"
    }
   ],
   "source": [
    "plt.hist(gdp_and_internet_use_2014['Internet_Users_Pct'], bins=40)\n",
    "plt.title(\"2014 Internet Usage Perc Distribution\")"
   ]
  },
  {
   "cell_type": "markdown",
   "id": "3b44179d",
   "metadata": {},
   "source": [
    "27. What are the top 5 countries in terms of internet use in 2014?"
   ]
  },
  {
   "cell_type": "code",
   "execution_count": 288,
   "id": "94befb10",
   "metadata": {
    "scrolled": true
   },
   "outputs": [
    {
     "name": "stdout",
     "output_type": "stream",
     "text": [
      "                          Country  Year  GDP_Per_Capita  Internet_Users_Pct\n",
      "7079  Dem. People's Rep. of Korea  2014             NaN                0.00\n",
      "7137                      Eritrea  2014             NaN                0.99\n",
      "6219                  Timor-Leste  2014     3264.568070                1.14\n",
      "827                       Burundi  2014      886.235777                1.38\n",
      "7674                      Somalia  2014             NaN                1.63\n"
     ]
    }
   ],
   "source": [
    "print(gdp_and_internet_use_2014.nsmallest(n=5, columns=['Internet_Users_Pct']))"
   ]
  },
  {
   "cell_type": "markdown",
   "id": "4e47c137",
   "metadata": {},
   "source": [
    "28. Create a DataFrame called top_5_internet from the combined DataFrame that has all three years for the 5 countries that had the greatest 2014 internet usage. You should have 15 rows. Check that this is true."
   ]
  },
  {
   "cell_type": "code",
   "execution_count": 292,
   "id": "1e3aaa54",
   "metadata": {},
   "outputs": [],
   "source": [
    "highest_countries = gdp_and_internet_use['Country'].isin(['Iceland', 'Bermuda', 'Norway', 'Denmark', 'Andorra'])\n",
    "lowest_countries = gdp_and_internet_use['Country'].isin([\"Dem.People's Rep. of Korea\", \"Eritrea\", \"Timor-Leste\", \"Burundi\", \"Somalia\"])\n",
    "#print(gdp_and_internet_use[country_filter])\n",
    "top_5_internet = gdp_and_internet_use[highest_countries]\n",
    "bottom_5_internet = gdp_and_internet_use[lowest_countries]"
   ]
  },
  {
   "cell_type": "markdown",
   "id": "db31c812",
   "metadata": {},
   "source": [
    "29. Create a seaborn Facet Grid to show the internet usage trend across the years 2004, 2009, and 2014 for these 5 countries (those with the highest reported internet use in 2014). Which country had the greatest growth between 2004 and 2014?"
   ]
  },
  {
   "cell_type": "code",
   "execution_count": 291,
   "id": "6d17dec6",
   "metadata": {},
   "outputs": [
    {
     "data": {
      "text/plain": [
       "<seaborn.axisgrid.FacetGrid at 0x185f2af7340>"
      ]
     },
     "execution_count": 291,
     "metadata": {},
     "output_type": "execute_result"
    },
    {
     "data": {
      "image/png": "[encoded data removed]",
      "text/plain": [
       "<Figure size 1080x216 with 5 Axes>"
      ]
     },
     "metadata": {
      "needs_background": "light"
     },
     "output_type": "display_data"
    }
   ],
   "source": [
    "graph = sns.FacetGrid(top_5_internet, col=\"Country\", hue=\"Country\")\n",
    "graph.map(sns.lineplot,\"Year\", \"Internet_Users_Pct\" ).set(ylabel=\"Internet %\")"
   ]
  },
  {
   "cell_type": "markdown",
   "id": "e58e852c",
   "metadata": {},
   "source": [
    "30. Repeat the steps above to look at the trend for the 5 countries with the lowest 2014 internet usage. Which country has consistently had the least internet use?"
   ]
  },
  {
   "cell_type": "code",
   "execution_count": 293,
   "id": "919da382",
   "metadata": {},
   "outputs": [
    {
     "data": {
      "text/plain": [
       "<seaborn.axisgrid.FacetGrid at 0x185f117ea90>"
      ]
     },
     "execution_count": 293,
     "metadata": {},
     "output_type": "execute_result"
    },
    {
     "data": {
      "image/png": "[encoded data removed]",
      "text/plain": [
       "<Figure size 864x216 with 4 Axes>"
      ]
     },
     "metadata": {
      "needs_background": "light"
     },
     "output_type": "display_data"
    }
   ],
   "source": [
    "graph = sns.FacetGrid(bottom_5_internet, col=\"Country\", hue=\"Country\")\n",
    "graph.map(sns.lineplot,\"Year\", \"Internet_Users_Pct\" ).set(ylabel=\"Internet %\")"
   ]
  },
  {
   "cell_type": "markdown",
   "id": "3d214ef2",
   "metadata": {},
   "source": [
    "31. Find the top 5 countries for 2014 in terms of GDP per capita; create a DataFrame to look at 10-year trends (use 2004, 2009, 2014 to look at the 10-year trend) in gdp per capita for the 5 countries with the highest 2014 GDP per capita. Use a seaborn facet grid for this."
   ]
  }
 ],
 "metadata": {
  "kernelspec": {
   "display_name": "Python 3",
   "language": "python",
   "name": "python3"
  },
  "language_info": {
   "codemirror_mode": {
    "name": "ipython",
    "version": 3
   },
   "file_extension": ".py",
   "mimetype": "text/x-python",
   "name": "python",
   "nbconvert_exporter": "python",
   "pygments_lexer": "ipython3",
   "version": "3.8.8"
  }
 },
 "nbformat": 4,
 "nbformat_minor": 5
}
